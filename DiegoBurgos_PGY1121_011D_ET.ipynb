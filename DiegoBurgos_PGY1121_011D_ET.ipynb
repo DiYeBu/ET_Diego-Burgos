{
  "nbformat": 4,
  "nbformat_minor": 0,
  "metadata": {
    "colab": {
      "provenance": []
    },
    "kernelspec": {
      "name": "python3",
      "display_name": "Python 3"
    },
    "language_info": {
      "name": "python"
    }
  },
  "cells": [
    {
      "cell_type": "code",
      "execution_count": null,
      "metadata": {
        "id": "aMxOHu9IQBST"
      },
      "outputs": [],
      "source": [
        "import os\n",
        "os.system(\"cls\")\n",
        "\n",
        "#precios\n",
        "#platinium $120.000 (del 1 al 20)\n",
        "#gold $80.000 (del 21 al 50)\n",
        "#silver $50.000 (del 51 al 100)\n",
        "\n",
        "#esta lista almacena todas las ubicaciones disponible y ocupadas\n",
        "ubicaciones = [\n",
        "                [1,2,3,4,5,6,7,8,9,10],\n",
        "                [11,12,13,\"x\",\"x\",\"x\",17,18,19,20],\n",
        "                [21,22,23,24,25,26,27,28,29,30],\n",
        "                [31,32,\"x\",34,35,36,37,38,39,40],\n",
        "                [41,42,43,44,\"x\",46,47,48,49,50],\n",
        "                [51,52,53,54,55,56,57,58,59,60],\n",
        "                [61,62,63,64,65,66,67,68,69,70],\n",
        "                [71,72,73,74,75,76,77,78,79,80],\n",
        "                [81,82,83,84,85,86,87,88,89,90],\n",
        "                [91,92,93,94,95,96,97,98,99,100],\n",
        "            ]\n",
        "#SE GUARDARA rut- nombre(opcional) - numero de asiento\n",
        "asistentes = []\n",
        "\n",
        "while True:\n",
        "    print(\"\\n\")\n",
        "    print(\"Compra De Entradas Para El Conciento VIP De Michael Jam\")\n",
        "    print(\"1.-Compra De Entradas\")\n",
        "    print(\"2.-Ver Ubicaciones Disponibles\")\n",
        "    print(\"3.-Ver Listado De Asistentes\")\n",
        "    print(\"4.-Ganancias Totales De La Venta De Entradas\")\n",
        "    print(\"5.-Salir\")\n",
        "\n",
        "    try:\n",
        "        op=int(input(\"Ingrese un opcion entre 1 y 5: \"))\n",
        "    except:\n",
        "        print(\"\\n\")\n",
        "        print(\"Error, Ingrese Solo Numeros entre 1 y 5...\")\n",
        "        op = 0\n",
        "\n",
        "    if op == 1:\n",
        "        print(\"Selecciono La Compra De Entradas\")\n",
        "        #La cantidad a comprar debe ser entre 1 y 3 -\n",
        "        cant_ubi = int(input(\"Ingrese La Cantidad De Entradas A Comprar[Solo permitido entre 1 y 3]: \"))\n",
        "        if cant_ubi == 0 or cant_ubi >= 4:\n",
        "            print(\"Error, Debe Ser Un Valor Entre 1 y 3\")\n",
        "        else:\n",
        "            print(ubicaciones)\n",
        "            print(\"\"\"\n",
        "                   Precios De Las Entradas\n",
        "                   Platinium  $120.000 (Del Asiento 1 al 20)\n",
        "                   Gold       $80.000  (Del Asiento 21 al 50)\n",
        "                   Silver     $50.000  (Del Asiento 51 al 100)\n",
        "                  \"\"\")\n",
        "        asientos = int(input(\"Ingrese Los Asientos Que Desea Comprar[Aquellos con una X NO Estan Disponibles]: \"))\n",
        "\n",
        "    if op == 2:\n",
        "        print(\"Selecciono Ver Ubicaciones Disponibles\")\n",
        "    if op == 3:\n",
        "        print(\"Selecciono Ver Listado De Asistentes\")\n",
        "    if op == 4:\n",
        "        print(\"Selecciono Ganancias Totales De La Venta De entradas\")\n",
        "    if op == 5:\n",
        "        print(\"Salir Del Menu\")\n",
        "        print(\"Gracias Por Preferirnos, Hasta Pronto...\")\n",
        "        break\n",
        "input(\"Presione Cualquier Boton Para Continuar\")"
      ]
    }
  ]
}